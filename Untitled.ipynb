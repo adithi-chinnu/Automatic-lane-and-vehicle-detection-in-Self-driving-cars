{
 "cells": [
  {
   "cell_type": "code",
   "execution_count": 37,
   "id": "df13b182",
   "metadata": {},
   "outputs": [
    {
     "name": "stdout",
     "output_type": "stream",
     "text": [
      "Moviepy - Building video output_video.mp4.\n",
      "Moviepy - Writing video output_video.mp4\n",
      "\n"
     ]
    },
    {
     "name": "stderr",
     "output_type": "stream",
     "text": [
      "                                                                                                                       \r"
     ]
    },
    {
     "name": "stdout",
     "output_type": "stream",
     "text": [
      "Moviepy - Done !\n",
      "Moviepy - video ready output_video.mp4\n"
     ]
    },
    {
     "data": {
      "text/html": [
       "<video controls src=\"output_video.mp4\" width=\"960\" height=\"540\"></video>"
      ],
      "text/plain": [
       "<IPython.core.display.HTML object>"
      ]
     },
     "metadata": {},
     "output_type": "display_data"
    }
   ],
   "source": [
    "import numpy as np\n",
    "import matplotlib.image as mpimg\n",
    "import cv2\n",
    "from IPython.display import HTML\n",
    "from IPython.display import display\n",
    "from moviepy.editor import VideoFileClip\n",
    "from Thresholding import Thresholding  # Update with the correct module name\n",
    "from PerspectiveTransformation import PerspectiveTransformation  # Update with the correct module name\n",
    "from LaneLines import LaneLines  # Update with the correct module name\n",
    "\n",
    "class FindLaneLines:\n",
    "    def __init__(self):\n",
    "        \"\"\" Init Application\"\"\"\n",
    "        self.thresholding = Thresholding()\n",
    "        self.transform = PerspectiveTransformation()\n",
    "        self.lanelines = LaneLines()\n",
    "        \n",
    "    def forward(self, img):\n",
    "        # Make a copy of the input image to avoid modifying the original\n",
    "        out_img = np.copy(img)\n",
    "\n",
    "        # Apply the forward transformations\n",
    "        img = self.transform.forward(img)\n",
    "        img = self.thresholding.forward(img)\n",
    "        img = self.lanelines.forward(img)\n",
    "        img = self.transform.backward(img)\n",
    "\n",
    "        # Resize the transformed image to match the original image size\n",
    "        img = cv2.resize(img, (out_img.shape[1], out_img.shape[0]))\n",
    "\n",
    "        # Blend the original image and the transformed image\n",
    "        out_img = cv2.addWeighted(out_img, 1, img, 0.6, 0)\n",
    "        out_img = self.lanelines.plot(out_img)\n",
    "\n",
    "        return out_img\n",
    "\n",
    "    def process_image(self, input_path, output_path):\n",
    "        img = mpimg.imread(input_path)\n",
    "        out_img = self.forward(img)\n",
    "        mpimg.imsave(output_path, out_img)\n",
    "        display(mpimg.Image(filename=output_path))\n",
    "\n",
    "    def process_video(self, input_path, output_path):\n",
    "        clip = VideoFileClip(input_path)\n",
    "        out_clip = clip.fl_image(self.forward)\n",
    "        out_clip.write_videofile(output_path, audio=False)\n",
    "        display(HTML(f'<video controls src=\"{output_path}\" width=\"960\" height=\"540\"></video>'))\n",
    "\n",
    "def main():\n",
    "    findLaneLines = FindLaneLines()\n",
    "    findLaneLines.process_video(\"production_id_4093791 (1080p).mp4\", \"output_video.mp4\")\n",
    "\n",
    "if __name__ == \"__main__\":\n",
    "    main()\n",
    "\n"
   ]
  },
  {
   "cell_type": "code",
   "execution_count": null,
   "id": "e11efddd",
   "metadata": {},
   "outputs": [],
   "source": []
  }
 ],
 "metadata": {
  "kernelspec": {
   "display_name": "Python 3 (ipykernel)",
   "language": "python",
   "name": "python3"
  },
  "language_info": {
   "codemirror_mode": {
    "name": "ipython",
    "version": 3
   },
   "file_extension": ".py",
   "mimetype": "text/x-python",
   "name": "python",
   "nbconvert_exporter": "python",
   "pygments_lexer": "ipython3",
   "version": "3.9.7"
  }
 },
 "nbformat": 4,
 "nbformat_minor": 5
}
